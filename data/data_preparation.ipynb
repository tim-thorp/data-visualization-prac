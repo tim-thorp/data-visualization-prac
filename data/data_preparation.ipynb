{
 "cells": [
  {
   "cell_type": "code",
   "execution_count": 1,
   "id": "48dd03fb-07f0-49b3-b6bd-9999fe74fcad",
   "metadata": {},
   "outputs": [],
   "source": [
    "import pandas as pd\n",
    "import matplotlib.pyplot as plt"
   ]
  },
  {
   "cell_type": "code",
   "execution_count": 2,
   "id": "daea5218-6bf6-4bd4-b06e-46243268564b",
   "metadata": {},
   "outputs": [],
   "source": [
    "# Define column groups\n",
    "base_cols = ['TEMP', 'HUM', 'CO2', 'PM1', 'PM2.5', 'PM5', 'PM10', 'HCHO',\n",
    "             'VOC', 'NO2', 'NOISE', 'DOOR1', 'WINDOW1', 'WINDOW2', 'VENT_TYPE', 'VENT_TIME']\n",
    "ext_cols = ['EXT_TEMP', 'EXT_HUM', 'EXT_PM2.5', 'EXT_PM10', 'EXT_NO2', 'EXT_CO']\n",
    "all_cols = ['date_bin'] + base_cols + ext_cols"
   ]
  },
  {
   "cell_type": "code",
   "execution_count": 3,
   "id": "f15fa278-c7bf-49ad-b164-a1acc4238864",
   "metadata": {},
   "outputs": [],
   "source": [
    "# Read and process all devices\n",
    "devices = {\n",
    "    i: pd.read_csv(f\"device{i}.csv\", \n",
    "                   decimal='.' if i==2 else ',',\n",
    "                   names=all_cols, \n",
    "                   header=0)\n",
    "    for i in range(1, 6)\n",
    "}"
   ]
  },
  {
   "cell_type": "code",
   "execution_count": 4,
   "id": "f4d75d75-7cb7-41cf-ac71-acf684706452",
   "metadata": {},
   "outputs": [],
   "source": [
    "# Convert dates\n",
    "for df in devices.values():\n",
    "    df['date_bin'] = pd.to_datetime(df['date_bin'])"
   ]
  },
  {
   "cell_type": "code",
   "execution_count": 5,
   "id": "4b14f4a2-f2b3-47cd-b309-475845f2732f",
   "metadata": {},
   "outputs": [],
   "source": [
    "# Rename columns with device numbers for base columns only\n",
    "for i, df in devices.items():\n",
    "    df.rename(columns={col: f\"{col}_DEVICE_{i}\" for col in base_cols}, inplace=True)\n",
    "    # Drop external columns for all except device 1\n",
    "    if i > 1:\n",
    "        df.drop(columns=ext_cols, inplace=True)"
   ]
  },
  {
   "cell_type": "code",
   "execution_count": 6,
   "id": "4210c6b5-e8cf-4ef7-8db8-686271b28fdf",
   "metadata": {},
   "outputs": [],
   "source": [
    "# Merge all devices\n",
    "merged_df = devices[1]\n",
    "for i in range(2, 6):\n",
    "    merged_df = merged_df.merge(devices[i], on='date_bin', how='outer')"
   ]
  },
  {
   "cell_type": "code",
   "execution_count": 7,
   "id": "1239c4bd-b8ae-4533-b4d1-7e9b157e399d",
   "metadata": {},
   "outputs": [],
   "source": [
    "# Reorder columns: date_bin, external columns, then device-specific columns\n",
    "device_cols = [f\"{col}_DEVICE_{i}\" \n",
    "               for i in range(1, 6) \n",
    "               for col in base_cols]\n",
    "merged_df = merged_df[['date_bin'] + ext_cols + device_cols]"
   ]
  },
  {
   "cell_type": "code",
   "execution_count": 8,
   "id": "8cd301e5-d6c5-4af3-a336-dc8361f2bc61",
   "metadata": {},
   "outputs": [],
   "source": [
    "merged_df.to_csv(\"all_devices_merged.csv\", index=False)"
   ]
  }
 ],
 "metadata": {
  "kernelspec": {
   "display_name": "Python 3 (ipykernel)",
   "language": "python",
   "name": "python3"
  },
  "language_info": {
   "codemirror_mode": {
    "name": "ipython",
    "version": 3
   },
   "file_extension": ".py",
   "mimetype": "text/x-python",
   "name": "python",
   "nbconvert_exporter": "python",
   "pygments_lexer": "ipython3",
   "version": "3.12.7"
  }
 },
 "nbformat": 4,
 "nbformat_minor": 5
}
